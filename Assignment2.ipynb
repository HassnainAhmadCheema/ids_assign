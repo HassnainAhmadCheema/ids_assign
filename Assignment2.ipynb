{
  "nbformat": 4,
  "nbformat_minor": 0,
  "metadata": {
    "colab": {
      "provenance": []
    },
    "kernelspec": {
      "name": "python3",
      "display_name": "Python 3"
    },
    "language_info": {
      "name": "python"
    }
  },
  "cells": [
    {
      "cell_type": "code",
      "execution_count": null,
      "metadata": {
        "id": "rmWUdA3dBsrf"
      },
      "outputs": [],
      "source": [
        "# 28-03-24\n",
        "# CSC461 – Assignment2 – IDS – Data Visualization\n",
        "# hassnain ahmad cheema\n",
        "# FA21-BSE-028"
      ]
    },
    {
      "cell_type": "markdown",
      "source": [
        "QUESTION 1:"
      ],
      "metadata": {
        "id": "86wh6TWfB1Dz"
      }
    },
    {
      "cell_type": "code",
      "source": [
        "import matplotlib.pyplot as plt\n",
        "import numpy as np\n",
        "import pandas as pd\n",
        "import folium\n",
        "import seaborn as sns\n",
        "import csv"
      ],
      "metadata": {
        "id": "k9_fCZKDB2O3"
      },
      "execution_count": 27,
      "outputs": []
    },
    {
      "cell_type": "code",
      "source": [
        "data = pd.read_csv('world_pop.csv')"
      ],
      "metadata": {
        "id": "pZg1dPaUCAvz"
      },
      "execution_count": 10,
      "outputs": []
    },
    {
      "cell_type": "code",
      "source": [
        "data_selected = data[['country', 'year_1960', 'year_2020']].copy()\n",
        "\n",
        "data_selected['total_population'] = data_selected['year_1960'] + data_selected['year_2020']\n",
        "top_10_countries = data_selected.sort_values(by='total_population', ascending=False).head(10)"
      ],
      "metadata": {
        "id": "VQMYLjhcCr9W"
      },
      "execution_count": null,
      "outputs": []
    },
    {
      "cell_type": "code",
      "source": [
        "plt.figure(figsize=(10, 8))\n",
        "\n",
        "plt.bar(top_10_countries['country'], top_10_countries['total_population'], color='blue')\n",
        "plt.title('Population of Top 10 Most Populated Countries (1960-2020)', fontsize=18)\n",
        "plt.xlabel('Country', fontsize=14)\n",
        "plt.ylabel('Total Population', fontsize=14)\n",
        "plt.xticks(fontsize=12, rotation=45)\n",
        "plt.yticks(fontsize=12)\n",
        "\n",
        "plt.tight_layout()\n",
        "plt.grid(axis='y')\n",
        "plt.show()"
      ],
      "metadata": {
        "id": "mv9Gb6xWCLul"
      },
      "execution_count": null,
      "outputs": []
    },
    {
      "cell_type": "markdown",
      "source": [
        "QUESTION 2:"
      ],
      "metadata": {
        "id": "IcSCqr4TC0ju"
      }
    },
    {
      "cell_type": "code",
      "source": [
        "#Show the population of 10 least populous countries in 2015 using a chart.\n",
        "pop_2015_data = data[['country', 'year_2015']].copy()\n",
        "least_10_countries_2015 = pop_2015_data.nsmallest(10, 'year_2015')\n",
        "least_10_countries_2015 = least_10_countries_2015.sort_values(by='year_2015', ascending=True)\n",
        "\n",
        "plt.figure(figsize=(10, 6))\n",
        "plt.barh(least_10_countries_2015['country'], least_10_countries_2015['year_2015'], color='blue')\n",
        "plt.xlabel('Population')\n",
        "plt.ylabel('Country')\n",
        "plt.title('Top 10 Least Populous Countries in 2015')\n",
        "plt.show()"
      ],
      "metadata": {
        "id": "HAYfGdwLC2Wg"
      },
      "execution_count": null,
      "outputs": []
    },
    {
      "cell_type": "code",
      "source": [
        "#Calculate the change in population of Pakistan, India, United States, and United Kingdom from 1970 to 2010 and show the population change (in millions) using a chart.\n",
        "selected_countries = ['Pakistan', 'India', 'United States', 'United Kingdom']\n",
        "years_range = [f'year_{year}' for year in range(1970, 2011)]\n",
        "\n",
        "selected_data = data.loc[data['country'].isin(selected_countries), ['country'] + years_range]\n",
        "population_change_70_10 = selected_data[years_range[-1]] - selected_data[years_range[0]]\n",
        "\n",
        "plt.figure(figsize=(10, 6))\n",
        "plt.bar(selected_countries, population_change_70_10 / 1e6, color=['blue', 'pink', 'red', 'yellow'])\n",
        "plt.xlabel('Country')\n",
        "plt.ylabel('Population Change')\n",
        "plt.title('Population Change')\n",
        "plt.grid(axis='y')\n",
        "plt.show()"
      ],
      "metadata": {
        "id": "JsESr2-zEXst"
      },
      "execution_count": null,
      "outputs": []
    },
    {
      "cell_type": "code",
      "source": [
        "#Calculate the Pakistan population growth between 2010-2020 and then show the data using a chart.\n",
        "pak_pop_2010 = data.loc[data['country'] == 'Pakistan', 'year_2010'].values[0]\n",
        "pak_pop_2020 = data.loc[data['country'] == 'Pakistan', 'year_2020'].values[0]\n",
        "pak_growth_percentage = ((pak_pop_2020 - pak_pop_2010) / pak_pop_2010) * 100\n",
        "\n",
        "print(\"Pakistan Population Growth (2010-2020): {:.2f}%\".format(pak_growth_percentage))\n",
        "\n",
        "pak_data_2010_2020 = data.loc[data['country'] == 'Pakistan', 'year_2010':'year_2020'].transpose()\n",
        "plt.figure(figsize=(10, 6))\n",
        "plt.plot(pak_data_2010_2020.index, pak_data_2010_2020.values, marker='o')\n",
        "plt.title('Pakistan Population Growth ')\n",
        "plt.xlabel('Year')\n",
        "plt.ylabel('Population')\n",
        "plt.grid(True)\n",
        "plt.show()"
      ],
      "metadata": {
        "id": "YV6VwXrsFX_f"
      },
      "execution_count": null,
      "outputs": []
    },
    {
      "cell_type": "markdown",
      "source": [
        "QUESTION 3:"
      ],
      "metadata": {
        "id": "SUuaRryiGHHE"
      }
    },
    {
      "cell_type": "code",
      "source": [
        "diamonds_data = pd.read_csv('diamonds.csv')\n",
        "diam = diamonds_data[(diamonds_data['clarity'] == 'SI2') & (diamonds_data['color'] == 'E')]"
      ],
      "metadata": {
        "id": "fWtlcZTdFl2t"
      },
      "execution_count": 25,
      "outputs": []
    },
    {
      "cell_type": "code",
      "source": [
        "plt.figure(figsize=(12, 8))\n",
        "cut_colors = {\n",
        "    'Fair': 'red',\n",
        "    'Good': 'orange',\n",
        "    'Very Good': 'yellow',\n",
        "    'Premium': 'green',\n",
        "    'Ideal': 'blue'\n",
        "}\n",
        "\n",
        "for cut, color in cut_colors.items():\n",
        "    subset = diam[diam['cut'] == cut]\n",
        "    plt.scatter(subset['carat'], subset['price'], label=cut, s=10, alpha=0.6, c=color)\n",
        "\n",
        "plt.title('Relationship between Carat and Price of Diamonds (SI2 Clarity, E Color)', fontsize=18)\n",
        "plt.xlabel('Carat', fontsize=14)\n",
        "plt.ylabel('Price', fontsize=14)\n",
        "plt.legend(title='Cut', title_fontsize='13', fontsize='11', markerscale=2)\n",
        "plt.grid(True, which='both', linestyle='--', linewidth=0.5)\n",
        "plt.tight_layout()\n",
        "plt.show()"
      ],
      "metadata": {
        "id": "AbM4_UY9GutP"
      },
      "execution_count": null,
      "outputs": []
    },
    {
      "cell_type": "markdown",
      "source": [
        "QUESTION 4:"
      ],
      "metadata": {
        "id": "gvq-tcMOHWfS"
      }
    },
    {
      "cell_type": "code",
      "source": [
        "data = pd.read_csv('nuclear_waste_sites.csv')\n",
        "us_map = folium.Map(location=[37.0902, -95.7129], zoom_start=4)"
      ],
      "metadata": {
        "id": "p2tvTRKmHZq7"
      },
      "execution_count": null,
      "outputs": []
    },
    {
      "cell_type": "code",
      "source": [
        "for _, row in data.iterrows():\n",
        "    folium.Marker(\n",
        "        location=[row['lat'], row['lon']],\n",
        "        popup=row['text'],\n",
        "        icon=folium.Icon(icon='info-sign')\n",
        "    ).add_to(us_map)\n",
        "\n",
        "us_map\n"
      ],
      "metadata": {
        "id": "XMwCwlmyHxTV"
      },
      "execution_count": null,
      "outputs": []
    },
    {
      "cell_type": "markdown",
      "source": [
        "QUESTION 5:"
      ],
      "metadata": {
        "id": "JaDg4KwFI2fN"
      }
    },
    {
      "cell_type": "code",
      "source": [
        "data = pd.read_csv('pak-heritage-sites.csv', header=None, names=['lat', 'lon', 'text'])\n",
        "\n",
        "data['lat'] = pd.to_numeric(data['lat'], errors='coerce')\n",
        "data['lon'] = pd.to_numeric(data['lon'], errors='coerce')"
      ],
      "metadata": {
        "id": "O3j11qP3JDqm"
      },
      "execution_count": 53,
      "outputs": []
    },
    {
      "cell_type": "code",
      "source": [
        "pak_map = folium.Map(location=[30.3753, 69.3451], zoom_start=5)\n",
        "for _, row in data.iterrows():\n",
        "    folium.Marker(\n",
        "        location=[row['lat'], row['lon']],\n",
        "        popup=row['text'],\n",
        "        icon=folium.Icon(icon='info-sign')\n",
        "    ).add_to(pak_map)\n",
        "\n",
        "pak_map"
      ],
      "metadata": {
        "id": "mMsr8RuDJqM7"
      },
      "execution_count": null,
      "outputs": []
    }
  ]
}