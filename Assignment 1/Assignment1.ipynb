{
  "cells": [
    {
      "cell_type": "code",
      "execution_count": null,
      "metadata": {
        "id": "gG0QW_zOmzxJ"
      },
      "outputs": [],
      "source": [
        "# 12-03-24\n",
        "# csc461 – Assignment1 – IDS – Web Scraping\n",
        "# Hassnain ahmad cheema\n",
        "# FA21-BSE-028"
      ]
    },
    {
      "cell_type": "markdown",
      "metadata": {
        "id": "r63F8QgQm_-Y"
      },
      "source": [
        "QUESTION 1:"
      ]
    },
    {
      "cell_type": "code",
      "execution_count": 11,
      "metadata": {
        "id": "LCX0ul1vmX0F"
      },
      "outputs": [],
      "source": [
        "import requests\n",
        "from bs4 import BeautifulSoup\n",
        "import csv\n",
        "import pandas as pd"
      ]
    },
    {
      "cell_type": "code",
      "execution_count": null,
      "metadata": {
        "id": "ppYjonDmmiRn"
      },
      "outputs": [],
      "source": [
        "headers = {\n",
        "    'User-Agent': 'Mozilla/5.0 (Windows NT 10.0; Win64; x64) AppleWebKit/537.36 (KHTML, like Gecko) Chrome/58.0.3029.110 Safari/537.3',\n",
        "    'Accept-Language': 'en-US,en;q=0.5'\n",
        "}\n",
        "\n",
        "url = 'https://www.imdb.com/chart/top/'"
      ]
    },
    {
      "cell_type": "code",
      "execution_count": null,
      "metadata": {
        "id": "dir6kkflmdkB"
      },
      "outputs": [],
      "source": [
        "response = requests.get(url, headers=headers)\n",
        "soup = BeautifulSoup(response.content, 'html.parser')"
      ]
    },
    {
      "cell_type": "code",
      "execution_count": null,
      "metadata": {
        "id": "l88egwgTmlE9"
      },
      "outputs": [],
      "source": [
        "movies_data = soup.findAll('div', attrs = {'class':'ipc-metadata-list-summary-item__c'})\n",
        "movies_info = []\n",
        "\n",
        "for data in movies_data:\n",
        "    name = data.a.h3.text.strip()\n",
        "    year = data.find('span', attrs={'class': 'ilsLEX'})\n",
        "    year = year.text.strip() if year else \"Unknown\"\n",
        "\n",
        "    rating = data.find('span', attrs={'class': 'ipc-rating-star'})\n",
        "    rating = rating.text.strip().split()[0] if rating else \"Unknown\"\n",
        "\n",
        "    duration1 = data.find_all('span', class_='sc-b0691f29-8')\n",
        "    duration = duration1[1].text.strip() if duration1 and len(duration1) > 1 else \"Unknown\"\n",
        "\n",
        "    movies_info.append([name, year, duration, rating])"
      ]
    },
    {
      "cell_type": "code",
      "execution_count": null,
      "metadata": {
        "id": "iTDJKoDHmncf"
      },
      "outputs": [],
      "source": [
        "with open('imdb_top_250_movies.csv', 'w', newline='') as csvfile:\n",
        "    writer = csv.writer(csvfile)\n",
        "    writer.writerow([\"Movie Name\", \"Year\", \"Duration\", \"IMDB Rating\"])\n",
        "    writer.writerows(movies_info)"
      ]
    },
    {
      "cell_type": "markdown",
      "metadata": {
        "id": "e6sdqUtPnCrk"
      },
      "source": [
        "QUESTION 2:"
      ]
    },
    {
      "cell_type": "code",
      "execution_count": 20,
      "metadata": {
        "id": "_UP6wTqnoNCo"
      },
      "outputs": [],
      "source": [
        "url = 'https://space-facts.com/mars/'\n",
        "response = requests.get(url)\n",
        "\n",
        "soup = BeautifulSoup(response.content, 'html.parser')\n",
        "table = soup.find('table', {'class': 'tablepress tablepress-id-p-mars'})"
      ]
    },
    {
      "cell_type": "code",
      "execution_count": 21,
      "metadata": {
        "colab": {
          "base_uri": "https://localhost:8080/"
        },
        "id": "0stRswXlokLp",
        "outputId": "2d33336c-cda9-44a8-a023-5636e0a323fe"
      },
      "outputs": [
        {
          "name": "stdout",
          "output_type": "stream",
          "text": [
            "Mars Planet Profile data has been saved to 'Mars_Planet_Profile.xlsx'\n"
          ]
        }
      ],
      "source": [
        "data = []\n",
        "for row in table.find_all('tr'):\n",
        "    columns = row.find_all(['th', 'td'])\n",
        "    data.append([col.text.strip() for col in columns])\n",
        "\n",
        "df = pd.DataFrame(data, columns=['Description', 'Value'])\n",
        "df = df.drop(0)\n",
        "df.to_excel('Mars_Planet_Profile.xlsx', index=False)\n",
        "\n",
        "print(\"Mars Planet Profile data has been saved to 'Mars_Planet_Profile.xlsx'\")"
      ]
    }
  ],
  "metadata": {
    "colab": {
      "provenance": []
    },
    "kernelspec": {
      "display_name": "Python 3",
      "name": "python3"
    },
    "language_info": {
      "name": "python"
    }
  },
  "nbformat": 4,
  "nbformat_minor": 0
}
