{
  "nbformat": 4,
  "nbformat_minor": 0,
  "metadata": {
    "colab": {
      "provenance": []
    },
    "kernelspec": {
      "name": "python3",
      "display_name": "Python 3"
    },
    "language_info": {
      "name": "python"
    }
  },
  "cells": [
    {
      "cell_type": "code",
      "execution_count": 1,
      "metadata": {
        "id": "QlMEGhHYsSGG"
      },
      "outputs": [],
      "source": [
        "# 17-04-24\n",
        "# CSC461 – Assignment3 – IDS – Graph Analysis\n",
        "# hassnain ahmad cheema\n",
        "# FA21-BSE-028"
      ]
    },
    {
      "cell_type": "markdown",
      "source": [
        "QUESTION 1:"
      ],
      "metadata": {
        "id": "zHWYdQxI5dTc"
      }
    },
    {
      "cell_type": "code",
      "source": [
        "import networkx as nx"
      ],
      "metadata": {
        "id": "tZ5wsUlzshwv"
      },
      "execution_count": 30,
      "outputs": []
    },
    {
      "cell_type": "code",
      "source": [
        "undir_graph = nx.Graph()"
      ],
      "metadata": {
        "id": "EZStDEDPss_V"
      },
      "execution_count": 31,
      "outputs": []
    },
    {
      "cell_type": "code",
      "source": [
        "nodes = [\"a\", \"b\", \"c\", \"d\", \"e\", \"f\", \"g\"]\n",
        "edges = [\n",
        "    (\"a\", \"c\"),\n",
        "    (\"a\", \"e\"),\n",
        "    (\"a\", \"g\"),\n",
        "    (\"b\", \"b\"),\n",
        "    (\"b\", \"f\"),\n",
        "    (\"c\", \"f\"),\n",
        "    (\"c\", \"g\"),\n",
        "    (\"d\", \"e\"),\n",
        "    (\"f\", \"g\")\n",
        "]\n"
      ],
      "metadata": {
        "id": "UpTjoiCCs19J"
      },
      "execution_count": 32,
      "outputs": []
    },
    {
      "cell_type": "code",
      "source": [
        "undir_graph.add_nodes_from(nodes)\n",
        "undir_graph.add_edges_from(edges)"
      ],
      "metadata": {
        "id": "FhHOxUhxvGot"
      },
      "execution_count": 33,
      "outputs": []
    },
    {
      "cell_type": "code",
      "source": [
        "nx.draw(undir_graph, with_labels=True)"
      ],
      "metadata": {
        "id": "8OsZ8cF3v5q4"
      },
      "execution_count": null,
      "outputs": []
    },
    {
      "cell_type": "markdown",
      "source": [
        "QUESTION 2:"
      ],
      "metadata": {
        "id": "J3SouO7z4CAk"
      }
    },
    {
      "cell_type": "code",
      "source": [
        "grph = nx.Graph()"
      ],
      "metadata": {
        "id": "NQ6AsAC-xM-F"
      },
      "execution_count": 35,
      "outputs": []
    },
    {
      "cell_type": "code",
      "source": [
        "nodes = [\"a\", \"b\", \"c\", \"d\", \"e\", \"f\", \"g\"]\n",
        "edges = [\n",
        "    (\"a\", \"c\", {'weight': 7}),\n",
        "    (\"a\", \"e\", {'weight': 4}),\n",
        "    (\"a\", \"g\", {'weight': 9}),\n",
        "    (\"b\", \"b\", {'weight': 2}),\n",
        "    (\"b\", \"f\", {'weight': 10}),\n",
        "    (\"c\", \"f\", {'weight': 5}),\n",
        "    (\"c\", \"g\", {'weight': 8}),\n",
        "    (\"d\", \"e\", {'weight': 3}),\n",
        "    (\"f\", \"g\", {'weight': 6})\n",
        "]"
      ],
      "metadata": {
        "id": "FrL43LtnxYHp"
      },
      "execution_count": 36,
      "outputs": []
    },
    {
      "cell_type": "code",
      "source": [
        "grph.add_nodes_from(nodes)\n",
        "grph.add_edges_from(edges)"
      ],
      "metadata": {
        "id": "d0VQJxMTxkHj"
      },
      "execution_count": 37,
      "outputs": []
    },
    {
      "cell_type": "code",
      "source": [
        "nx.draw(grph, with_labels=True)\n"
      ],
      "metadata": {
        "id": "Ue6x_SmRzMgB"
      },
      "execution_count": null,
      "outputs": []
    },
    {
      "cell_type": "code",
      "source": [
        "shortest_path = nx.dijkstra_path(grph, \"a\", \"b\")\n",
        "shortest_path_length = nx.dijkstra_path_length(grph, \"a\", \"b\")"
      ],
      "metadata": {
        "id": "YYcqIQ6k01wf"
      },
      "execution_count": 40,
      "outputs": []
    },
    {
      "cell_type": "code",
      "source": [
        "\n",
        "print(f\"Shortest Path between A and B: {shortest_path}\")\n",
        "print(f\"Length of the shortest path: {shortest_path_length}\")"
      ],
      "metadata": {
        "id": "X709xVY546ng"
      },
      "execution_count": null,
      "outputs": []
    }
  ]
}